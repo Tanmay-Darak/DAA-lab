{
 "cells": [
  {
   "cell_type": "code",
   "execution_count": 7,
   "id": "96ec00ab",
   "metadata": {},
   "outputs": [
    {
     "name": "stdout",
     "output_type": "stream",
     "text": [
      "Optimal solution: 44.6\n"
     ]
    }
   ],
   "source": [
    "#Q1\n",
    "def fractional_knapsack(items, capacity):\n",
    "    for item in items:\n",
    "        item.append(item[1] / item[2])\n",
    "    items.sort(key=lambda x: x[3], reverse=True)\n",
    "    total_benefit = 0\n",
    "    remaining_capacity = capacity\n",
    "\n",
    "    for item in items:\n",
    "        if remaining_capacity >= item[2]:\n",
    "            total_benefit += item[1]\n",
    "            remaining_capacity -= item[2]\n",
    "        else:\n",
    "            fraction = remaining_capacity / item[2]\n",
    "            total_benefit += fraction * item[1]\n",
    "            break\n",
    "\n",
    "    return total_benefit\n",
    "\n",
    "items = [\n",
    "    ['a', 12, 4],\n",
    "    ['b', 10, 6],\n",
    "    ['c', 8, 5],\n",
    "    ['d', 11, 7],\n",
    "    ['e', 14, 3],\n",
    "    ['f', 7, 1],\n",
    "    ['g', 9, 6]\n",
    "]\n",
    "capacity = 15\n",
    "\n",
    "optimal_solution = fractional_knapsack(items, capacity)\n",
    "print(\"Optimal solution:\", optimal_solution)"
   ]
  },
  {
   "cell_type": "code",
   "execution_count": 3,
   "id": "35003af5",
   "metadata": {},
   "outputs": [
    {
     "name": "stdout",
     "output_type": "stream",
     "text": [
      "40\n",
      "40\n"
     ]
    }
   ],
   "source": [
    "#Q2\n",
    "#Greedy algorithm\n",
    "array = [2,5,3,4,0]\n",
    "array.sort()\n",
    "sums = 0\n",
    "for i in range(0,len(array)):\n",
    "    sums = sums+ array[i]*i\n",
    "print(sums)\n",
    "\n",
    "#brute force\n",
    "def generate_permutations(array, current_index, n, max_sum):\n",
    "    if current_index == n:\n",
    "        current_sum = 0\n",
    "        for i in range(n):\n",
    "            current_sum += array[i] * i\n",
    "        max_sum[0] = max(max_sum[0], current_sum)\n",
    "        return\n",
    "\n",
    "    for i in range(current_index, n):\n",
    "        array[current_index], array[i] = array[i], array[current_index]\n",
    "        generate_permutations(array, current_index + 1, n, max_sum)\n",
    "        array[current_index], array[i] = array[i], array[current_index]\n",
    "\n",
    "def brute_force(array):\n",
    "    max_sum = [float('-inf')]\n",
    "    generate_permutations(array, 0, len(array), max_sum)\n",
    "    return max_sum[0]\n",
    "\n",
    "array = [2, 5, 3, 4, 0]\n",
    "max_sum = brute_force(array)\n",
    "print(max_sum)"
   ]
  },
  {
   "cell_type": "code",
   "execution_count": 6,
   "id": "2361b3a0",
   "metadata": {},
   "outputs": [
    {
     "name": "stdout",
     "output_type": "stream",
     "text": [
      "104\n"
     ]
    }
   ],
   "source": [
    "#Q3\n",
    "#Greedy algorithm\n",
    "array_one = [7,5,1,4]\n",
    "array_two = [6,17,9,3]\n",
    "array_one.sort()\n",
    "array_two.sort()\n",
    "sums =  0\n",
    "for i in range(0,len(array_one)):\n",
    "    sums = sums + array_one[i]*array_two[len(array_two)-1-i]\n",
    "print(sums)\n"
   ]
  }
 ],
 "metadata": {
  "kernelspec": {
   "display_name": "Python 3 (ipykernel)",
   "language": "python",
   "name": "python3"
  },
  "language_info": {
   "codemirror_mode": {
    "name": "ipython",
    "version": 3
   },
   "file_extension": ".py",
   "mimetype": "text/x-python",
   "name": "python",
   "nbconvert_exporter": "python",
   "pygments_lexer": "ipython3",
   "version": "3.11.4"
  }
 },
 "nbformat": 4,
 "nbformat_minor": 5
}
