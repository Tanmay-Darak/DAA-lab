{
 "cells": [
  {
   "cell_type": "code",
   "execution_count": 1,
   "id": "f7c8a017",
   "metadata": {},
   "outputs": [
    {
     "name": "stdout",
     "output_type": "stream",
     "text": [
      "4\n",
      "19\n"
     ]
    }
   ],
   "source": [
    "#Q1\n",
    "def candies(n, arr):\n",
    "    candies_count = [1] * n\n",
    "    \n",
    "    # Traverse from left to right\n",
    "    for i in range(1, n):\n",
    "        if arr[i] > arr[i - 1]:\n",
    "            candies_count[i] = candies_count[i - 1] + 1\n",
    "    \n",
    "    # Traverse from right to left\n",
    "    for i in range(n - 2, -1, -1):\n",
    "        if arr[i] > arr[i + 1]:\n",
    "            candies_count[i] = max(candies_count[i], candies_count[i + 1] + 1)\n",
    "\n",
    "    total_candies = sum(candies_count)\n",
    "    \n",
    "    return total_candies\n",
    "\n",
    "n1 = 3\n",
    "arr1 = [1, 2, 2]\n",
    "print(candies(n1, arr1)) \n",
    "\n",
    "n2 = 10\n",
    "arr2 = [2, 4, 2, 6, 1, 7, 8, 9, 2, 1]\n",
    "print(candies(n2, arr2))  \n"
   ]
  },
  {
   "cell_type": "code",
   "execution_count": 2,
   "id": "2021f6e1",
   "metadata": {},
   "outputs": [
    {
     "name": "stdout",
     "output_type": "stream",
     "text": [
      "10\n"
     ]
    }
   ],
   "source": [
    "#Q2\n",
    "def maximumPeople(p, x, y, r):\n",
    "    n = len(p)\n",
    "    m = len(y)\n",
    "    ans = 0\n",
    "    for i in range(m):\n",
    "        cnt = 0\n",
    "        for j in range(n):\n",
    "            if x[j] >= y[i] - r[i] and x[j] <= y[i] + r[i]:\n",
    "                cnt += p[j]\n",
    "        ans = max(ans, cnt)\n",
    "    return ans\n",
    "\n",
    "n = 2\n",
    "p = [10, 100]\n",
    "x = [5, 100]\n",
    "m = 1\n",
    "y = [4]\n",
    "r = [1]\n",
    "\n",
    "print(maximumPeople(p, x, y, r))"
   ]
  },
  {
   "cell_type": "code",
   "execution_count": 3,
   "id": "da8df809",
   "metadata": {},
   "outputs": [
    {
     "name": "stdout",
     "output_type": "stream",
     "text": [
      "2\n"
     ]
    }
   ],
   "source": [
    "#Q3\n",
    "def pylons(k, arr):\n",
    "    n = len(arr)\n",
    "    plants = 0\n",
    "    i = 0\n",
    "\n",
    "    while i < n:\n",
    "        j = min(i + k - 1, n - 1)\n",
    "        while j >= max(0, i - k + 1):\n",
    "            if arr[j] == 1:\n",
    "                plants += 1\n",
    "                i = j + k\n",
    "                break\n",
    "            j -= 1\n",
    "        else:\n",
    "            return -1\n",
    "\n",
    "    return plants\n",
    "    \n",
    "cities, k = 6, 2\n",
    "arr = [0, 1, 1, 1, 1, 0]\n",
    "\n",
    "print(pylons(k, arr))"
   ]
  },
  {
   "cell_type": "code",
   "execution_count": null,
   "id": "7c3a7a88",
   "metadata": {},
   "outputs": [],
   "source": []
  }
 ],
 "metadata": {
  "kernelspec": {
   "display_name": "Python 3 (ipykernel)",
   "language": "python",
   "name": "python3"
  },
  "language_info": {
   "codemirror_mode": {
    "name": "ipython",
    "version": 3
   },
   "file_extension": ".py",
   "mimetype": "text/x-python",
   "name": "python",
   "nbconvert_exporter": "python",
   "pygments_lexer": "ipython3",
   "version": "3.11.4"
  }
 },
 "nbformat": 4,
 "nbformat_minor": 5
}
