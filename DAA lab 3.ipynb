{
 "cells": [
  {
   "cell_type": "code",
   "execution_count": 6,
   "id": "0d4848f7",
   "metadata": {},
   "outputs": [
    {
     "name": "stdout",
     "output_type": "stream",
     "text": [
      "Pair with sum 10 found: (8,2)\n"
     ]
    }
   ],
   "source": [
    "#Q1\n",
    "def find_pair(arr, target_sum):\n",
    "    check = []\n",
    "    \n",
    "    for num in arr:\n",
    "        complement = target_sum - num   \n",
    "        if complement in check:\n",
    "            return num, complement\n",
    "        check.append(num)\n",
    "        \n",
    "    return None\n",
    "\n",
    "arr = [3, 5, 2, 8, 11, 7]\n",
    "target_sum = 10\n",
    "find = find_pair(arr, target_sum)\n",
    "if find:\n",
    "    print(f\"Pair with sum {target_sum} found: ({find[0]},{find[1]})\")\n",
    "else:\n",
    "    print(f\"No pair with sum {target_sum} found\")\n"
   ]
  },
  {
   "cell_type": "code",
   "execution_count": 9,
   "id": "f6ef0aaa",
   "metadata": {},
   "outputs": [
    {
     "name": "stdout",
     "output_type": "stream",
     "text": [
      "Pair with maximum product: (-5, -3)\n"
     ]
    }
   ],
   "source": [
    "#Q2\n",
    "def max_product(arr):\n",
    "    max_positive = 0\n",
    "    second_max = 0\n",
    "    min_negative = 0\n",
    "    second_min = 0\n",
    "    for num in arr:\n",
    "        if num > max_positive:\n",
    "            second_max = max_positive\n",
    "            max_positive = num\n",
    "        elif num > second_max:\n",
    "            second_max = num\n",
    "        \n",
    "        if num < min_negative:\n",
    "            second_min = min_negative\n",
    "            min_negative = num\n",
    "        elif num < second_min:\n",
    "            second_min = num\n",
    "    \n",
    "    product_positive = max_positive * second_max\n",
    "    product_negative = min_negative * second_min\n",
    "    \n",
    "    if product_positive > product_negative:\n",
    "        return max_positive, second_max\n",
    "    else:\n",
    "        return min_negative, second_min\n",
    "\n",
    "arr = [1, -3, -5, 2, 6]\n",
    "pair = max_product(arr)\n",
    "print(\"Pair with maximum product:\", pair)\n"
   ]
  },
  {
   "cell_type": "code",
   "execution_count": 12,
   "id": "8450623e",
   "metadata": {},
   "outputs": [
    {
     "name": "stdout",
     "output_type": "stream",
     "text": [
      "Sorted array: [3, 5, 6, 7, 8, 9]\n"
     ]
    }
   ],
   "source": [
    "#Q3\n",
    "def sort_array(arr):\n",
    "    first = None\n",
    "    second = None\n",
    "    for i in range(len(arr) - 1):\n",
    "        if arr[i] > arr[i + 1]:\n",
    "            if first is None:\n",
    "                first = i\n",
    "            else:\n",
    "                second = i + 1\n",
    "                break\n",
    "    temp = arr[first]\n",
    "    arr[first] = arr[second]\n",
    "    arr[second] = temp\n",
    "    return arr\n",
    "\n",
    "arr = [3, 8, 6, 7, 5, 9] \n",
    "sorted_arr = sort_array(arr)\n",
    "print(\"Sorted array:\", sorted_arr)\n"
   ]
  },
  {
   "cell_type": "code",
   "execution_count": 14,
   "id": "cb12003c",
   "metadata": {},
   "outputs": [
    {
     "name": "stdout",
     "output_type": "stream",
     "text": [
      "Segregated array: [0, 0, 0, 0, 0, 0, 1, 1, 1, 1]\n"
     ]
    }
   ],
   "source": [
    "#Q4\n",
    "def segregate_array(arr):\n",
    "    left = 0 \n",
    "    right = len(arr) - 1 \n",
    "\n",
    "    while left < right:\n",
    "        while arr[left] == 0 and left < right:\n",
    "            left += 1\n",
    "            \n",
    "        while arr[right] == 1 and left < right:\n",
    "            right -= 1\n",
    "            \n",
    "        if left < right:\n",
    "            arr[left], arr[right] = arr[right], arr[left]\n",
    "            left += 1\n",
    "            right -= 1 \n",
    "            \n",
    "    return arr\n",
    "\n",
    "binary_array = [0, 1, 0, 1, 0, 1,0,0,1,0]\n",
    "segregated_array = segregate_array(binary_array)\n",
    "print(\"Segregated array:\", segregated_array)\n"
   ]
  },
  {
   "cell_type": "code",
   "execution_count": 1,
   "id": "46aaa914",
   "metadata": {},
   "outputs": [
    {
     "name": "stdout",
     "output_type": "stream",
     "text": [
      "Given array is: [10, 1, 2, 4, 13, 9, 5]\n",
      "Inversion count is: 8\n"
     ]
    }
   ],
   "source": [
    "#Q5\n",
    "def merge_sort(arr):\n",
    "    if len(arr) <= 1:\n",
    "        return arr, 0\n",
    "    \n",
    "    mid = len(arr) // 2\n",
    "    left_half, left_count = merge_sort(arr[:mid])\n",
    "    right_half, right_count = merge_sort(arr[mid:])\n",
    "    \n",
    "    merged_arr = []\n",
    "    i = j = count = 0\n",
    "    \n",
    "    while i < len(left_half) and j < len(right_half):\n",
    "        if left_half[i] <= right_half[j]:\n",
    "            merged_arr.append(left_half[i])\n",
    "            i += 1\n",
    "        else:\n",
    "            merged_arr.append(right_half[j])\n",
    "            j += 1\n",
    "            count += len(left_half) - i  \n",
    "            \n",
    "    merged_arr.extend(left_half[i:])\n",
    "    merged_arr.extend(right_half[j:])\n",
    "    \n",
    "    return merged_arr, left_count + right_count + count\n",
    "\n",
    "arr = [10, 1, 2, 4, 13, 9, 5]\n",
    "print(\"Given array is:\", arr)\n",
    "sorted_arr, inversions = merge_sort(arr)\n",
    "print(\"Inversion count is:\", inversions)"
   ]
  },
  {
   "cell_type": "code",
   "execution_count": 9,
   "id": "b5fc3f26",
   "metadata": {},
   "outputs": [
    {
     "name": "stdout",
     "output_type": "stream",
     "text": [
      " O(n^2) Pair with sum 10 found: (3,7)\n",
      " O(nlogn) Pair with sum 10 found: (2,8)\n"
     ]
    }
   ],
   "source": [
    "#Q6\n",
    "def find_pair_nsquare(arr,target_sum):\n",
    "    find = 0 \n",
    "    for i in range(0,len(arr)):\n",
    "        for j in range(i,len(arr)):\n",
    "            if arr[i]+arr[j] == target_sum:\n",
    "                find = 1\n",
    "                break;\n",
    "        if find==1:\n",
    "            break;\n",
    "    if find==1:\n",
    "        return arr[i],arr[j]\n",
    "    else:\n",
    "        return 0,0\n",
    "    \n",
    "def find_pair_nlogn(arr, target_sum):\n",
    "    arr.sort()  \n",
    "    left= 0\n",
    "    right = len(arr) - 1\n",
    "\n",
    "    while left < right:\n",
    "        current_sum = arr[left] + arr[right]\n",
    "        if current_sum == target_sum:\n",
    "            return arr[left], arr[right]\n",
    "        elif current_sum < target_sum:\n",
    "            left += 1\n",
    "        else:\n",
    "            right -= 1\n",
    "    return 0, 0\n",
    "\n",
    "arr = [3, 5, 2, 8, 11, 7]\n",
    "target_sum = 10\n",
    "i,j = find_pair_nsquare(arr, target_sum)\n",
    "k,m = find_pair_nlogn(arr, target_sum)\n",
    "if i!=0 and j!=0:\n",
    "     print(f\" O(n^2) Pair with sum {target_sum} found: ({i},{j})\")\n",
    "else:\n",
    "     print(\"Pair not found\")\n",
    "if k!=0 and m!=0:\n",
    "     print(f\" O(nlogn) Pair with sum {target_sum} found: ({k},{m})\")\n",
    "else:\n",
    "     print(\"Pair not found\")"
   ]
  },
  {
   "cell_type": "code",
   "execution_count": null,
   "id": "68bf63e8",
   "metadata": {},
   "outputs": [],
   "source": []
  }
 ],
 "metadata": {
  "kernelspec": {
   "display_name": "Python 3 (ipykernel)",
   "language": "python",
   "name": "python3"
  },
  "language_info": {
   "codemirror_mode": {
    "name": "ipython",
    "version": 3
   },
   "file_extension": ".py",
   "mimetype": "text/x-python",
   "name": "python",
   "nbconvert_exporter": "python",
   "pygments_lexer": "ipython3",
   "version": "3.11.4"
  }
 },
 "nbformat": 4,
 "nbformat_minor": 5
}
